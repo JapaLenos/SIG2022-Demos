{
 "cells": [
  {
   "cell_type": "markdown",
   "metadata": {},
   "source": [
    "## Notebook d'administration : groupes et vues par secteur géographique de l'enseigne Jardi"
   ]
  },
  {
   "cell_type": "markdown",
   "metadata": {},
   "source": [
    "#### Import des bibliothèques"
   ]
  },
  {
   "cell_type": "code",
   "execution_count": null,
   "metadata": {},
   "outputs": [],
   "source": [
    "import logging\n",
    "logging.captureWarnings(True)\n",
    "\n",
    "from arcgis.gis import GIS\n",
    "gis = GIS(\"home\")\n",
    "import pandas as pd\n",
    "from arcgis.features import FeatureLayerCollection"
   ]
  },
  {
   "cell_type": "markdown",
   "metadata": {},
   "source": [
    "#### Lecture du Feature Layer"
   ]
  },
  {
   "cell_type": "code",
   "execution_count": null,
   "metadata": {
    "scrolled": true
   },
   "outputs": [],
   "source": [
    "# Item Added From Toolbar\n",
    "# Title: Enseignes_Jardi_2022 | Type: Feature Service | Owner: plouis_esrifrance\n",
    "enseignes = gis.content.get(\"777283a81da148f5a2a519ef98fb4502\")\n",
    "enseignes"
   ]
  },
  {
   "cell_type": "code",
   "execution_count": null,
   "metadata": {},
   "outputs": [],
   "source": [
    "df = pd.DataFrame.spatial.from_layer(enseignes.layers[0])\n",
    "df"
   ]
  },
  {
   "cell_type": "code",
   "execution_count": null,
   "metadata": {},
   "outputs": [],
   "source": [
    "dict = {}\n",
    "for i in df.index:\n",
    "    dict[df[\"secteur_com\"][i]]=df[\"responsable_secteur\"][i]\n",
    "dict"
   ]
  },
  {
   "cell_type": "markdown",
   "metadata": {},
   "source": [
    "#### Création des groupes et ajout des utilisateurs"
   ]
  },
  {
   "cell_type": "code",
   "execution_count": null,
   "metadata": {},
   "outputs": [],
   "source": [
    "for secteur,respo in dict.items() : \n",
    "    groupe = gis.groups.create(title='Secteur {0}'.format(secteur),\n",
    "                                    tags = [secteur,'Jardi, magasins'],\n",
    "                                    description = 'Magasins Jardi pour le secteur {0}'.format(secteur),\n",
    "                                    snippet = 'Vues des magasins Jardi pour le secteur {0}'.format(secteur),\n",
    "                                    access = 'private',\n",
    "                                    is_invitation_only = 'True',\n",
    "                                    thumbnail = r'/arcgis/home/Jardi{0}.png'.format(secteur)\n",
    "                              )\n",
    "    display(groupe)\n",
    "    utilisateur = gis.users.search(respo)[0]\n",
    "    display(utilisateur)\n",
    "    groupe.add_users([utilisateur])"
   ]
  },
  {
   "cell_type": "markdown",
   "metadata": {},
   "source": [
    "#### Création des vues"
   ]
  },
  {
   "cell_type": "code",
   "execution_count": null,
   "metadata": {
    "tags": [
     "parameters"
    ]
   },
   "outputs": [],
   "source": [
    "source_search = gis.content.search(\"777283a81da148f5a2a519ef98fb4502\")[0] \n",
    "source_flc  = FeatureLayerCollection.fromitem(source_search)"
   ]
  },
  {
   "cell_type": "code",
   "execution_count": null,
   "metadata": {},
   "outputs": [],
   "source": [
    "for secteur in dict.keys() : \n",
    "    vue = source_flc.manager.create_view(name='Vue Magasins Jardi {0}'.format(secteur))\n",
    "    view_search  = gis.content.search('Vue Magasins Jardi {0}'.format(secteur))[0]\n",
    "    view_flc = FeatureLayerCollection.fromitem(view_search)\n",
    "    view_layer = view_flc.layers[0]\n",
    "    view_def = {\"viewDefinitionQuery\" : \"secteur_com = '{0}'\".format(secteur)}\n",
    "    view_layer.manager.update_definition(view_def)\n",
    "    print ('vue creee {0}'.format(secteur))"
   ]
  },
  {
   "cell_type": "markdown",
   "metadata": {},
   "source": [
    "#### Création des WebMaps et Dashboards associés"
   ]
  },
  {
   "cell_type": "code",
   "execution_count": null,
   "metadata": {},
   "outputs": [],
   "source": [
    "from arcgis.mapping import WebMap\n",
    "from arcgis.apps.dashboard import Dashboard\n",
    "from arcgis.apps.dashboard import Header, RichText, Indicator, MapLegend, SidePanel\n",
    "from arcgis.apps.dashboard import add_row, add_column"
   ]
  },
  {
   "cell_type": "code",
   "execution_count": null,
   "metadata": {},
   "outputs": [],
   "source": [
    "#WEBMAPS\n",
    "for secteur in dict.keys() :\n",
    "    view_search  = gis.content.search('Vue Magasins Jardi {0}'.format(secteur))[0]\n",
    "    carte = gis.map(\"France\",5)\n",
    "    carte.add_layer(view_search)\n",
    "    carte.zoom_to_layer(view_search)\n",
    "    webmap_properties = {'title':'WebMap Magasins Jardi {0}'.format(secteur),\n",
    "        'snippet': 'WebMap des magasins de Jardi pour le secteur {0}'.format(secteur),\n",
    "        'tags':['Jardi','ArcGIS Notebooks', 'Magasin', 'Demo','SIG2022']}\n",
    "    carte.save(webmap_properties)"
   ]
  },
  {
   "cell_type": "code",
   "execution_count": null,
   "metadata": {},
   "outputs": [],
   "source": [
    "#DASHBOARDS\n",
    "for secteur in dict.keys() :\n",
    "    \n",
    "    #webmap à intégrer\n",
    "    carte_search = gis.content.search('WebMap Magasins Jardi {0}'.format(secteur))[0]\n",
    "    carteid = carte_search.id\n",
    "    carte_get = gis.content.get(\"{0}\".format(carteid))\n",
    "    webmap = WebMap(carte_get) \n",
    "    webmap.height=1\n",
    "    webmap.basemap_switcher = True\n",
    "    webmap.search = True\n",
    "    \n",
    "    #configuration des popups\n",
    "    webmap.pop_ups=True  \n",
    "    layer = webmap.layers[0]\n",
    "    layer.popupInfo.fieldInfos[0].visible = False\n",
    "    layer.popupInfo.fieldInfos[1].visible = False\n",
    "    layer.popupInfo.fieldInfos[2].visible = False\n",
    "    layer.popupInfo.fieldInfos[3].visible = False\n",
    "    layer.popupInfo.fieldInfos[8].visible = False\n",
    "    webmap.update()\n",
    "    \n",
    "    #entête\n",
    "    entete = Header(title='Dashboard Magasins Jardi secteur {0}'.format(secteur),\n",
    "                subtitle='Suivi du CA pour les années 2021 et 2022',\n",
    "                margin=True,\n",
    "                size='medium')\n",
    "    \n",
    "    #légende\n",
    "    legende = MapLegend(webmap)\n",
    "    legende.height=0.25\n",
    "    \n",
    "    #couche pour les indicateurs\n",
    "    view_search  = gis.content.search('Vue Magasins Jardi {0}'.format(secteur))[0]\n",
    "    view_get = gis.content.get(view_search.id)\n",
    "    \n",
    "    #indicateurs : CA moyens selon les années\n",
    "    indicator_2020 = Indicator(item = view_get, name=\"CA_Total_2020\", title = \"CA total des magasins du secteur en 2020 en €\" )\n",
    "    indicator_2020.data.value_type = \"statistic\"\n",
    "    indicator_2020.data.statistic = \"sum\"\n",
    "    indicator_2020.data.value_field = \"CA2020\"\n",
    "    indicator_2020.height=0.35\n",
    "\n",
    "    indicator_2021 = Indicator(item = view_get, name=\"CA_Total_2021\", title = \"CA total des magasins du secteur en 2021 en €\" )\n",
    "    indicator_2021.data.value_type = \"statistic\"\n",
    "    indicator_2021.data.statistic = \"sum\"\n",
    "    indicator_2021.data.value_field = \"CA2021\"\n",
    "    indicator_2021.height=0.4\n",
    "    \n",
    "    #création et sauvegarde du Dashboard\n",
    "    dashboard = Dashboard()\n",
    "    dashboard.header = entete\n",
    "    dashboard.theme = \"dark\"\n",
    "    dashboard.layout = add_column([add_row([webmap]),add_row([indicator_2020,indicator_2021,legende])])\n",
    "    dashboard.save('Dashboard Magasins Jardi secteur {0}'.format(secteur),\n",
    "               description=\"Dashboards des magasins de l'enseigne Jardi pour le secteur {0} indiquant les CA moyens pour les années 2020,2021,2022\".format(secteur),\n",
    "               tags='Jardi, Demo, SIG2022', \n",
    "               overwrite=True)"
   ]
  },
  {
   "cell_type": "markdown",
   "metadata": {},
   "source": [
    "#### Partage des Vues, WebMaps et des Dashboards dans les groupes"
   ]
  },
  {
   "cell_type": "code",
   "execution_count": null,
   "metadata": {},
   "outputs": [],
   "source": [
    "for secteur in dict.keys() : \n",
    "    \n",
    "    #view_search  = gis.content.search('Vue Magasins Jardi {0}'.format(secteur))[0]\n",
    "    #viewid = view_search.id\n",
    "    #view_share  = gis.content.get(\"{0}\".format(viewid))\n",
    "    view_share  = gis.content.get(gis.content.search('Vue Magasins Jardi {0}'.format(secteur))[0].id)\n",
    "    display(view_search)\n",
    "    \n",
    "    wm_share  = gis.content.get(gis.content.search('WebMap Magasins Jardi {0}'.format(secteur))[0].id)\n",
    "    display(wm_share)\n",
    "\n",
    "    dashboard_share  = gis.content.get(gis.content.search('Dashboard Magasins Jardi secteur {0}'.format(secteur))[0].id)\n",
    "    display(wm_share)\n",
    "    \n",
    "    groupe = gis.groups.search('title:Secteur {0}'.format(secteur), max_groups=1)\n",
    "    display(groupe)\n",
    "    groupeid = groupe[0].id              \n",
    "    view_share.share(groups=[groupeid])\n",
    "    wm_share.share(groups=[groupeid])\n",
    "    dashboard_share.share(groups=[groupeid])"
   ]
  }
 ],
 "metadata": {
  "esriNotebookRuntime": {
   "notebookRuntimeName": "ArcGIS Notebook Python 3 Standard",
   "notebookRuntimeVersion": "7.0"
  },
  "kernelspec": {
   "display_name": "Python 3 (ipykernel)",
   "language": "python",
   "name": "python3"
  },
  "language_info": {
   "codemirror_mode": {
    "name": "ipython",
    "version": 3
   },
   "file_extension": ".py",
   "mimetype": "text/x-python",
   "name": "python",
   "nbconvert_exporter": "python",
   "pygments_lexer": "ipython3",
   "version": "3.9.11"
  }
 },
 "nbformat": 4,
 "nbformat_minor": 2
}
